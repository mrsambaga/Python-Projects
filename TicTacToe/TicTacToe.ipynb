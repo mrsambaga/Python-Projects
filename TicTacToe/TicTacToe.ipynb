{
 "cells": [
  {
   "cell_type": "code",
   "execution_count": 76,
   "metadata": {},
   "outputs": [],
   "source": [
    "from IPython.display import clear_output\n",
    "import random"
   ]
  },
  {
   "cell_type": "code",
   "execution_count": 36,
   "metadata": {},
   "outputs": [],
   "source": [
    "def display_board(board):\n",
    "    clear_output()\n",
    "    \n",
    "    print('   |   |')\n",
    "    print(' ' + board[7] + ' | ' + board[8] + ' | ' + board[9])\n",
    "    print('   |   |')\n",
    "    print('-----------')\n",
    "    print('   |   |')\n",
    "    print(' ' + board[4] + ' | ' + board[5] + ' | ' + board[6])\n",
    "    print('   |   |')\n",
    "    print('-----------')\n",
    "    print('   |   |')\n",
    "    print(' ' + board[1] + ' | ' + board[2] + ' | ' + board[3])\n",
    "    print('   |   |')"
   ]
  },
  {
   "cell_type": "code",
   "execution_count": 141,
   "metadata": {},
   "outputs": [],
   "source": [
    "def ask_input():\n",
    "    \n",
    "    choice ='WRONG'\n",
    "    within_range = False\n",
    "    \n",
    "    while choice.isdigit() == False or within_range == False:\n",
    "\n",
    "        choice = input(\"Select your placement (1-9) \")\n",
    "        \n",
    "        if choice.isdigit() == False:\n",
    "            print(\"That is not a digit! \")\n",
    "            \n",
    "        if choice.isdigit() == True:\n",
    "            if int(choice) in range(0,10):\n",
    "                within_range = True\n",
    "            else:\n",
    "                print(\"Please choose a number between 1-9 \")\n",
    "                within_range = False\n",
    "        \n",
    "    \n",
    "    return int(choice)"
   ]
  },
  {
   "cell_type": "code",
   "execution_count": 56,
   "metadata": {},
   "outputs": [],
   "source": [
    "def start_game():\n",
    "    play = \"test\"\n",
    "    while play != 'Y':\n",
    "        play = input(\"Are you ready to play ?? (Y/N) \")\n",
    "        if play != 'Y' and play != 'N' :\n",
    "            print(\"Please enter 'Y' or 'N' \")"
   ]
  },
  {
   "cell_type": "code",
   "execution_count": null,
   "metadata": {},
   "outputs": [],
   "source": [
    "def first_turn():\n",
    "    x = random.randint(1,2)\n",
    "    return x"
   ]
  },
  {
   "cell_type": "code",
   "execution_count": 122,
   "metadata": {},
   "outputs": [],
   "source": [
    "def restart(board, game_on):\n",
    "    restart = 'x'\n",
    "    while restart != 'Y' and restart != 'N' :\n",
    "        restart = input(\"Do you want to restart the game ?? (Y/N)\")\n",
    "        if restart != 'Y' and restart != 'N' :\n",
    "            print(\"Please enter 'Y' or 'N' \")\n",
    "        \n",
    "    if restart == 'Y':\n",
    "        res = True\n",
    "        game_on = False\n",
    "    elif restart == 'N':\n",
    "        res = False\n",
    "        game_on = False\n",
    "        \n",
    "    return res, game_on"
   ]
  },
  {
   "cell_type": "code",
   "execution_count": null,
   "metadata": {},
   "outputs": [],
   "source": [
    "def check_win(board):\n",
    "    if (board[1:4] == ['O','O','O'] or board[4:7] == ['O','O','O'] \n",
    "        or board[7:] == ['O','O','O'] or board[1::4] == ['O','O','O'] \n",
    "        or board[3:8:2] == ['O','O','O'] or board[1:8:3] == ['O','O','O']\n",
    "        or board[2:9:3] == ['O','O','O'] or board[3::3] == ['O','O','O']) :\n",
    "        \n",
    "        result = True\n",
    "        \n",
    "    elif (board[1:4] == ['X','X','X'] or board[4:7] == ['X','X','X'] \n",
    "        or board[7:] == ['X','X','X'] or board[1::4] == ['X','X','X'] \n",
    "        or board[3:8:2] == ['X','X','X'] or board[1:8:3] == ['X','X','X']\n",
    "        or board[2:9:3] == ['X','X','X'] or board[3::3] == ['X','X','X']) :\n",
    "        \n",
    "        result = True\n",
    "        \n",
    "    else :\n",
    "        result = False\n",
    "    return result"
   ]
  },
  {
   "cell_type": "code",
   "execution_count": null,
   "metadata": {},
   "outputs": [],
   "source": [
    "def game():\n",
    "    \n",
    "    print(\"Welcome to Tic Tac Toe !\")\n",
    "    \n",
    "    while True :\n",
    "        game_on = True\n",
    "        result = False\n",
    "        board = ['','1','2','3','4','5','6','7','8','9']\n",
    "        player_turn = first_turn()\n",
    "        if player_turn == 1 :\n",
    "            print(\"Player 1 go first !\")\n",
    "        elif player_turn == 2:\n",
    "            print(\"Player 2 go first !\")\n",
    "            \n",
    "        start_game()    \n",
    "    \n",
    "        while game_on == True :\n",
    "\n",
    "            if player_turn == 1 :\n",
    "                display_board(board)\n",
    "                print(\"Player 1 turn\")\n",
    "                x = ask_input()\n",
    "                board[x] = 'O'\n",
    "                result = check_win(board)\n",
    "                if result == True:\n",
    "                    display_board(board)\n",
    "                    print(\"Player 1 win !\")\n",
    "                    res, game_on = restart(board, game_on)\n",
    "                    clear_output()\n",
    "                else :\n",
    "                    player_turn = 2\n",
    "                \n",
    "            if player_turn == 2 :\n",
    "                display_board(board)\n",
    "                print(\"Player 2 turn\")\n",
    "                x = ask_input()\n",
    "                board[x] = 'X'\n",
    "                result = check_win(board)\n",
    "                if result == True:\n",
    "                    display_board(board)\n",
    "                    print(\"Player 2 win !\")\n",
    "                    res, game_on = restart(board, game_on)\n",
    "                    clear_output()\n",
    "                else :\n",
    "                    player_turn = 1\n",
    "        \n",
    "        if res == False :\n",
    "            break"
   ]
  },
  {
   "cell_type": "code",
   "execution_count": 143,
   "metadata": {},
   "outputs": [],
   "source": [
    "game()"
   ]
  },
  {
   "cell_type": "code",
   "execution_count": null,
   "metadata": {},
   "outputs": [],
   "source": []
  }
 ],
 "metadata": {
  "kernelspec": {
   "display_name": "Python 3",
   "language": "python",
   "name": "python3"
  },
  "language_info": {
   "codemirror_mode": {
    "name": "ipython",
    "version": 3
   },
   "file_extension": ".py",
   "mimetype": "text/x-python",
   "name": "python",
   "nbconvert_exporter": "python",
   "pygments_lexer": "ipython3",
   "version": "3.8.5"
  }
 },
 "nbformat": 4,
 "nbformat_minor": 4
}
